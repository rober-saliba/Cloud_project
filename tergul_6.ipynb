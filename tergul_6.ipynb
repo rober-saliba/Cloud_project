{
  "nbformat": 4,
  "nbformat_minor": 0,
  "metadata": {
    "colab": {
      "provenance": []
    },
    "kernelspec": {
      "name": "python3",
      "display_name": "Python 3"
    },
    "language_info": {
      "name": "python"
    }
  },
  "cells": [
    {
      "cell_type": "code",
      "source": [
        "# ========== STEP 1: Install required packages ==========\n",
        "!pip install requests beautifulsoup4 nltk matplotlib"
      ],
      "metadata": {
        "id": "7FK3Wm-tUO_6"
      },
      "execution_count": null,
      "outputs": []
    },
    {
      "cell_type": "code",
      "source": [
        "# ========== STEP 2: Imports ==========\n",
        "import requests\n",
        "from bs4 import BeautifulSoup\n",
        "import re\n",
        "import nltk\n",
        "from nltk.stem import PorterStemmer\n",
        "import matplotlib.pyplot as plt"
      ],
      "metadata": {
        "id": "Tp0N9kXdUSrJ"
      },
      "execution_count": null,
      "outputs": []
    },
    {
      "cell_type": "code",
      "source": [
        "# ========== STEP 3: Setup ==========\n",
        "nltk.download('stopwords')\n",
        "STOP_WORDS = set(nltk.corpus.stopwords.words('english'))\n",
        "stemmer = PorterStemmer()\n",
        "FIREBASE_URL = \"https://tergol-6-cloud-default-rtdb.firebaseio.com/project_words_index.json\""
      ],
      "metadata": {
        "id": "Ca6dNKF9UULH"
      },
      "execution_count": null,
      "outputs": []
    },
    {
      "cell_type": "code",
      "source": [
        "# ========== STEP 4: Web Scraping and Indexing ==========\n",
        "def fetch_page(url):\n",
        "    response = requests.get(url)\n",
        "    if response.status_code == 200:\n",
        "        return BeautifulSoup(response.text, 'html.parser')\n",
        "    return None\n",
        "\n",
        "def index_words(soup):\n",
        "    index = {}\n",
        "    words = re.findall(r'\\w+', soup.get_text())\n",
        "    for word in words:\n",
        "        word = word.lower()\n",
        "        if word not in STOP_WORDS:\n",
        "            stemmed = stemmer.stem(word)\n",
        "            index[stemmed] = index.get(stemmed, 0) + 1\n",
        "    return index\n"
      ],
      "metadata": {
        "id": "6FxtcSvEUaKr"
      },
      "execution_count": null,
      "outputs": []
    },
    {
      "cell_type": "code",
      "source": [
        "# ========== STEP 5: Use Your Site ==========\n",
        "url = 'https://cloud.google.com/customers/spotify'\n",
        "soup = fetch_page(url)\n",
        "if soup:\n",
        "    index = index_words(soup)\n",
        "    sorted_index = sorted(index.items(), key=lambda x: x[1], reverse=True)\n",
        "    top_10 = dict(sorted_index[:10])\n",
        "    print(\"Top 10 Words:\", top_10)\n",
        "else:\n",
        "    print(\"❌ Failed to fetch the page\")"
      ],
      "metadata": {
        "id": "LUQ8YMoyUay6"
      },
      "execution_count": null,
      "outputs": []
    },
    {
      "cell_type": "code",
      "source": [
        "# ========== STEP 6: Upload to Firebase ==========\n",
        "upload_response = requests.put(FIREBASE_URL, json=top_10)\n",
        "if upload_response.status_code == 200:\n",
        "    print(\"✅ Uploaded to Firebase successfully\")\n",
        "else:\n",
        "    print(\"❌ Upload failed:\", upload_response.text)"
      ],
      "metadata": {
        "id": "WczU03DOUcBo"
      },
      "execution_count": null,
      "outputs": []
    },
    {
      "cell_type": "code",
      "source": [
        "# ========== STEP 7: Read from Firebase ==========\n",
        "firebase_data = requests.get(FIREBASE_URL).json()\n",
        "print(\"\\n📦 Words from Firebase:\")\n",
        "for word, count in firebase_data.items():\n",
        "    print(f\"{word}: {count}\")"
      ],
      "metadata": {
        "id": "cZGL5R6qUhQ3"
      },
      "execution_count": null,
      "outputs": []
    },
    {
      "cell_type": "code",
      "source": [
        "# ========== STEP 8: Chart ==========\n",
        "words = list(firebase_data.keys())\n",
        "counts = list(firebase_data.values())\n",
        "\n",
        "plt.figure(figsize=(12, 6))\n",
        "plt.bar(words, counts, color='mediumseagreen')\n",
        "plt.xlabel('Words')\n",
        "plt.ylabel('Frequency')\n",
        "plt.title('Top 10 Word Frequencies from Spotify Page')\n",
        "plt.xticks(rotation=45)\n",
        "plt.grid(axis='y')\n",
        "plt.tight_layout()\n",
        "plt.show()"
      ],
      "metadata": {
        "id": "weTFC9EqUkeR"
      },
      "execution_count": null,
      "outputs": []
    }
  ]
}